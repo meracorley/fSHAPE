{
 "cells": [
  {
   "cell_type": "code",
   "execution_count": 1,
   "metadata": {},
   "outputs": [
    {
     "name": "stdout",
     "output_type": "stream",
     "text": [
      "20404\n",
      "[[1]\n",
      " [1]\n",
      " [1]\n",
      " [1]\n",
      " [1]\n",
      " [1]\n",
      " [1]\n",
      " [1]\n",
      " [1]\n",
      " [1]]\n"
     ]
    }
   ],
   "source": [
    "import numpy as np\n",
    "from hmmlearn import hmm\n",
    "files = [\"NR_004391.coverage\",\"NR_002715.coverage\",\"NR_027260.coverage\",\"NR_001445.coverage\",\n",
    "         \"NR_146119_3.coverage\", \"NM_003380.coverage\"]\n",
    "#coverage emissions are discrete (coverage values are always integers), thus using a multinomial\n",
    "#model = hmm.GaussianHMM(n_components=2, covariance_type='spherical') #a discrete emission HMM with 2 states (hi and lo)\n",
    "model = hmm.MultinomialHMM(n_components=2) #If i use multinomial I have to convert coverage values to 0 and 1\n",
    "model.startprob_ = np.array([0.5, 0.5])\n",
    "model.transmat_ = np.array([[0.994897959,0.005102041],\n",
    "                            [0.005102041,0.994897959]])\n",
    "model.emissionprob_ = np.array([[0.99, 0.01],\n",
    "                                [0.01, 0.99]])\n",
    "\n",
    "out = open(\"states.txt\",'w')\n",
    "covLengths = np.array([],dtype=\"int\")\n",
    "allCov = np.array([], dtype=\"int\")\n",
    "trimBy = 20\n",
    "for file in files:\n",
    "    covFile = open(file,'r')\n",
    "    covLines = covFile.read().splitlines()\n",
    "\n",
    "    num_samples = len(covLines[0].split())\n",
    "    cov = np.zeros((len(covLines),num_samples), dtype=\"int\")\n",
    "\n",
    "    #First making a matrix of coverages, each replicate (bg or rx) is in one column\n",
    "    #each row is one position in the RNA sequence\n",
    "\n",
    "    for i in range(len(covLines)):\n",
    "        thisline = covLines[i].split()\n",
    "        numbers = []\n",
    "        for j in thisline:\n",
    "            value = int(float(j))\n",
    "            numbers.append(value)\n",
    "        cov[i] = numbers\n",
    "    \n",
    "    #flattening 2d coverage matrices into 1d vector\n",
    "    #ex: [[1,2,3,4],[5,6,7,8]] -> [1,5,2,6,3,7,4,8]\n",
    "    #but storing the lengths of each replicate so hmmlearn recognizes them as separate sequences\n",
    "    allCov = np.concatenate((allCov,cov.flatten('F')))\n",
    "    covLength = np.array([len(covLines)]*num_samples)\n",
    "    covLengths = np.concatenate((covLengths,covLength))\n",
    "    covFile.close()\n",
    "    \n",
    "allCovBin = np.copy(allCov) #converting values to 0 or 1 for Multinomial HMM\n",
    "allCovBin[allCovBin<50] = 0\n",
    "allCovBin[allCovBin>=50] = 1\n",
    "cov1d = allCovBin.reshape(-1,1) #array needs to be in this shape for hmmlearn\n",
    "\n",
    "print(len(cov1d))\n",
    "print(cov1d[0:10])\n"
   ]
  },
  {
   "cell_type": "code",
   "execution_count": 9,
   "metadata": {},
   "outputs": [],
   "source": [
    "model.fit(cov1d, covLengths)\n",
    "states = model.predict(cov1d, lengths=covLengths)"
   ]
  },
  {
   "cell_type": "code",
   "execution_count": 19,
   "metadata": {},
   "outputs": [],
   "source": [
    "for i in states:\n",
    "    out.write(str(i)+\"\\n\")\n",
    "out.close()"
   ]
  },
  {
   "cell_type": "code",
   "execution_count": 7,
   "metadata": {},
   "outputs": [],
   "source": [
    "from sklearn.externals import joblib\n",
    "#joblib.dump(model, \"coverageHMM.pkl\")\n",
    "\n",
    "model = joblib.load(\"coverageHMM.pkl\") #to load the trained model and use it on new data"
   ]
  },
  {
   "cell_type": "code",
   "execution_count": 8,
   "metadata": {},
   "outputs": [
    {
     "name": "stdout",
     "output_type": "stream",
     "text": [
      "[0.21483785 0.78516215]\n",
      "[[0.18654102 0.81345898]\n",
      " [0.62726052 0.37273948]]\n",
      "[[0.67642436 0.32357564]\n",
      " [0.31936865 0.68063135]]\n"
     ]
    }
   ],
   "source": [
    "#print(model.means_) #gaussianHMM has means for each state\n",
    "print(model.startprob_)\n",
    "print(model.emissionprob_)\n",
    "print(model.transmat_)\n",
    "#print(model.covars_) #gaussianHMM has means for each state"
   ]
  },
  {
   "cell_type": "code",
   "execution_count": 11,
   "metadata": {},
   "outputs": [
    {
     "data": {
      "image/png": "[encoded data removed]",
      "text/plain": [
       "<Figure size 432x288 with 1 Axes>"
      ]
     },
     "metadata": {
      "needs_background": "light"
     },
     "output_type": "display_data"
    }
   ],
   "source": [
    "#now plot the predicted states on top of the coverages for each of the samples\n",
    "%matplotlib inline\n",
    "import matplotlib.pyplot as plt\n",
    "cumCovLengths = [0]\n",
    "sum = 0\n",
    "states = np.array(states)\n",
    "for length in covLengths:\n",
    "    cumCovLengths.append(length+sum)\n",
    "    sum+=length\n",
    "#print(cumCovLengths)\n",
    "for i in range(5,6): #len(covLengths)):\n",
    "    x=np.arange(0,covLengths[i])\n",
    "    aveCov = np.mean(allCov[cumCovLengths[i]:cumCovLengths[i+1]])\n",
    "    plt.plot(x, allCov[cumCovLengths[i]:cumCovLengths[i+1]],'b-', label=\"Coverage\")\n",
    "    plt.plot(x, states[cumCovLengths[i]:cumCovLengths[i+1]]*aveCov,'r-', label=\"HMM State\")\n",
    "    plt.legend(loc='best')\n",
    "    plt.ylabel('Coverage or HMM')\n",
    "    plt.xlabel('Mapping Position')\n",
    "    #plt.savefig('HMMplot'+str(i)+'.png')\n",
    "    #plt.clf()"
   ]
  },
  {
   "cell_type": "code",
   "execution_count": null,
   "metadata": {},
   "outputs": [],
   "source": []
  }
 ],
 "metadata": {
  "anaconda-cloud": {},
  "kernelspec": {
   "display_name": "Python 3",
   "language": "python",
   "name": "python3"
  },
  "language_info": {
   "codemirror_mode": {
    "name": "ipython",
    "version": 3
   },
   "file_extension": ".py",
   "mimetype": "text/x-python",
   "name": "python",
   "nbconvert_exporter": "python",
   "pygments_lexer": "ipython3",
   "version": "3.7.3"
  }
 },
 "nbformat": 4,
 "nbformat_minor": 1
}
